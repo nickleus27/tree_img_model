{
 "cells": [
  {
   "cell_type": "code",
   "execution_count": 1,
   "id": "8dcde5cd-d758-4854-9d99-1ed9dc091982",
   "metadata": {},
   "outputs": [
    {
     "name": "stdout",
     "output_type": "stream",
     "text": [
      "Epoch 1/11\n",
      "2/2 [==============================] - 1s 269ms/step - loss: 1.2597 - accuracy: 0.4070 - val_loss: 0.7717 - val_accuracy: 0.5000\n",
      "Epoch 2/11\n",
      "2/2 [==============================] - 0s 29ms/step - loss: 0.8188 - accuracy: 0.4298 - val_loss: 0.8830 - val_accuracy: 0.5000\n",
      "Epoch 3/11\n",
      "2/2 [==============================] - 0s 30ms/step - loss: 0.8786 - accuracy: 0.4896 - val_loss: 0.6928 - val_accuracy: 0.5000\n",
      "Epoch 4/11\n",
      "2/2 [==============================] - 0s 31ms/step - loss: 0.6365 - accuracy: 0.5826 - val_loss: 0.7547 - val_accuracy: 0.5000\n",
      "Epoch 5/11\n",
      "2/2 [==============================] - 0s 31ms/step - loss: 0.7242 - accuracy: 0.4896 - val_loss: 0.6682 - val_accuracy: 0.8333\n",
      "Epoch 6/11\n",
      "2/2 [==============================] - 0s 30ms/step - loss: 0.6111 - accuracy: 0.8310 - val_loss: 0.6818 - val_accuracy: 0.5000\n",
      "Epoch 7/11\n",
      "2/2 [==============================] - 0s 30ms/step - loss: 0.6062 - accuracy: 0.5104 - val_loss: 0.6316 - val_accuracy: 0.6667\n",
      "Epoch 8/11\n",
      "2/2 [==============================] - 0s 30ms/step - loss: 0.5849 - accuracy: 0.8349 - val_loss: 0.6294 - val_accuracy: 0.6667\n",
      "Epoch 9/11\n",
      "2/2 [==============================] - 0s 29ms/step - loss: 0.5602 - accuracy: 0.8738 - val_loss: 0.5925 - val_accuracy: 0.6667\n",
      "Epoch 10/11\n",
      "2/2 [==============================] - 0s 32ms/step - loss: 0.4962 - accuracy: 0.8927 - val_loss: 0.5805 - val_accuracy: 0.6667\n",
      "Epoch 11/11\n",
      "2/2 [==============================] - 0s 30ms/step - loss: 0.4606 - accuracy: 0.9298 - val_loss: 0.5344 - val_accuracy: 0.8333\n"
     ]
    },
    {
     "name": "stderr",
     "output_type": "stream",
     "text": [
      "/Users/nanderson/miniforge3/envs/pydl/lib/python3.8/site-packages/tensorflow/python/keras/engine/training.py:2325: UserWarning: `Model.state_updates` will be removed in a future version. This property should not be used in TensorFlow 2.0, as `updates` are applied automatically.\n",
      "  warnings.warn('`Model.state_updates` will be removed in a future version. '\n",
      "/Users/nanderson/miniforge3/envs/pydl/lib/python3.8/site-packages/tensorflow/python/keras/engine/base_layer.py:1397: UserWarning: `layer.updates` will be removed in a future version. This property should not be used in TensorFlow 2.0, as `updates` are applied automatically.\n",
      "  warnings.warn('`layer.updates` will be removed in a future version. '\n"
     ]
    },
    {
     "name": "stdout",
     "output_type": "stream",
     "text": [
      "WARNING:tensorflow:FOR KERAS USERS: The object that you are saving contains one or more Keras models or layers. If you are loading the SavedModel with `tf.keras.models.load_model`, continue reading (otherwise, you may ignore the following instructions). Please change your code to save with `tf.keras.models.save_model` or `model.save`, and confirm that the file \"keras.metadata\" exists in the export directory. In the future, Keras will only load the SavedModels that have this file. In other words, `tf.saved_model.save` will no longer write SavedModels that can be recovered as Keras models (this will apply in TF 2.5).\n",
      "\n",
      "FOR DEVS: If you are overwriting _tracking_metadata in your class, this property has been used to save metadata in the SavedModel. The metadta field will be deprecated soon, so please move the metadata to a different file.\n",
      "INFO:tensorflow:Assets written to: firstTree.model/assets\n"
     ]
    }
   ],
   "source": [
    "import tensorflow as tf\n",
    "from tensorflow.keras.models import Sequential\n",
    "from tensorflow.keras.layers import Dense, Dropout, Activation, Flatten, Conv2D, MaxPooling2D\n",
    "import pickle\n",
    "\n",
    "X = pickle.load(open(\"X.pickle\", \"rb\"))\n",
    "y = pickle.load(open(\"y.pickle\", \"rb\"))\n",
    "\n",
    "#figure out why we do this step X=X/255, 0-255 is pixel values???\n",
    "X = X/255.0\n",
    "\n",
    "#creating layers...research how this works\n",
    "model = Sequential()#research this functions\n",
    "model.add(Conv2D(64, (3,3), input_shape = X.shape[1:]))#research this function\n",
    "model.add(Activation(\"relu\"))#rectify linear? research \"relu\" and activation\n",
    "model.add(MaxPooling2D(pool_size=(2,2)))#research maxPooling...pooling\n",
    "\n",
    "\n",
    "model.add(Conv2D(64, (3,3))) #dont need to shape after first layer\n",
    "model.add(Activation(\"relu\"))\n",
    "model.add(MaxPooling2D(pool_size=(2,2)))\n",
    "\n",
    "model.add(Flatten()) #research function\n",
    "model.add(Dense(64)) #research function and peramiter\n",
    "\n",
    "model.add(Dense(1))\n",
    "model.add(Activation('sigmoid')) #research module and sigmoid peramiter\n",
    "\n",
    "#next step is important for research... optimizer, metrics, and for adding more images labels i believe\n",
    "model.compile(loss=\"binary_crossentropy\",   #research categorical as peramiter loss=categorical...for multiple labels other than just oak and redwood\n",
    "              optimizer = \"adam\",\n",
    "              metrics = ['accuracy'])\n",
    "\n",
    "#batch size = how many images trying to pass through cycle. bigger dataset bigger batch size able to pass. validation is a percentage, 0.1 = 10%, but research what for????\n",
    "model.fit(X, y, epochs=11, validation_split=0.1)\n",
    "model.save('firstTree.model')\n",
    "model.save('firstTree.h5')"
   ]
  },
  {
   "cell_type": "code",
   "execution_count": null,
   "id": "ad36d6bc-f2f5-4022-91cc-0ea92f75c526",
   "metadata": {},
   "outputs": [],
   "source": []
  }
 ],
 "metadata": {
  "kernelspec": {
   "display_name": "Python 3",
   "language": "python",
   "name": "python3"
  },
  "language_info": {
   "codemirror_mode": {
    "name": "ipython",
    "version": 3
   },
   "file_extension": ".py",
   "mimetype": "text/x-python",
   "name": "python",
   "nbconvert_exporter": "python",
   "pygments_lexer": "ipython3",
   "version": "3.8.8"
  }
 },
 "nbformat": 4,
 "nbformat_minor": 5
}
