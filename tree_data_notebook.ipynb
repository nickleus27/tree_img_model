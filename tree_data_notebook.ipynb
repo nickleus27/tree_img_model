{
 "cells": [
  {
   "cell_type": "raw",
   "id": "c2feeafa-2143-4938-8dd4-46a44e6fcfb7",
   "metadata": {},
   "source": [
    "My first NoteBook to preprocess image data for a keras model"
   ]
  },
  {
   "cell_type": "code",
   "execution_count": null,
   "id": "d56d83c0-dba5-4857-8e84-5e3fad7f206d",
   "metadata": {},
   "outputs": [],
   "source": [
    "import numpy as np\n",
    "import matplotlib.pyplot as plot\n",
    "import os\n",
    "import cv2"
   ]
  },
  {
   "cell_type": "raw",
   "id": "79c5d5e9-9ca7-4dba-be4f-e7136b224f68",
   "metadata": {},
   "source": [
    "use os library to access directory with images"
   ]
  },
  {
   "cell_type": "code",
   "execution_count": null,
   "id": "5ed8224b-cc46-4404-a338-7be3e2ec9d9d",
   "metadata": {},
   "outputs": [],
   "source": [
    "DATADIR = \"ImageDataSet/Trees\"\n",
    "CATAGORIES = [\"Oak\", \"Redwood\"] #create labels oak and redwood\n",
    "\n",
    "for category in CATAGORIES:\n",
    "    path= os.path.join(DATADIR, category) #path to image folders\n",
    "    for img in os.listdir(path):\n",
    "        img_array = cv2.imread(os.path.join(path, img))\n",
    "        plot.imshow(img_array)\n",
    "        plot.show()\n",
    "        break\n",
    "    break\n",
    "\n",
    "print(img_array)"
   ]
  },
  {
   "cell_type": "raw",
   "id": "35b1d933-23ba-488c-a5f2-4d63e67662cb",
   "metadata": {},
   "source": [
    "Resize images because they all need to bee same size for keras cnn model"
   ]
  },
  {
   "cell_type": "code",
   "execution_count": null,
   "id": "52d4d6e2-de5d-46d8-9797-3750f596dc1e",
   "metadata": {
    "tags": []
   },
   "outputs": [],
   "source": [
    "IMG_SIZE = 50 #50x50 pixel size\n",
    "\n",
    "img_sized_array = cv2.resize(img_array, (IMG_SIZE, IMG_SIZE)) #use cv2 to resize images\n",
    "plot.imshow(img_sized_array)\n",
    "plot.show()"
   ]
  },
  {
   "cell_type": "raw",
   "id": "ec0c9769-ecb7-4b20-9f5d-6fc01dafea04",
   "metadata": {},
   "source": [
    "create training data that is an array of resized images and associated catagory numbers"
   ]
  },
  {
   "cell_type": "code",
   "execution_count": null,
   "id": "180c4c8b-ddf8-4026-b64c-8c888dd51103",
   "metadata": {
    "tags": []
   },
   "outputs": [],
   "source": [
    "training_data = []\n",
    "\n",
    "def create_training_data():\n",
    "    for category in CATAGORIES:\n",
    "        path = os.path.join(DATADIR, category) #path to image folders\n",
    "        class_num = CATAGORIES.index(category) #make each tree in array a number in array to associate classification to\n",
    "        for img in os.listdir(path):\n",
    "            try:\n",
    "                img_array = cv2.imread(os.path.join(path, img))\n",
    "                img_sized_array = cv2.resize(img_array, (IMG_SIZE, IMG_SIZE))\n",
    "                training_data.append([img_sized_array, class_num])#training data \n",
    "            except Exception as e: #if there is a problem just move onto next image\n",
    "                pass\n",
    "\n",
    "create_training_data()"
   ]
  },
  {
   "cell_type": "raw",
   "id": "0dd30044-a394-4f8e-a747-f2589009d98b",
   "metadata": {},
   "source": [
    "Lets check and see the size of our training data and see if catagories are numbered\n",
    "Also, lets shuffle data"
   ]
  },
  {
   "cell_type": "code",
   "execution_count": null,
   "id": "99d0bcee-b320-41d3-9afa-4379c3df9ab1",
   "metadata": {
    "tags": []
   },
   "outputs": [],
   "source": [
    "### !!!STOP HERE!!! ###\n",
    "# MAKE SURE ALL DATASETS ARE EQUAL IN LENGTH BEFORE RUNNING PROGRAM #\n",
    "# TO GET DESIRED MODEL NEED TO HAVE EQUAL AMOUNT OF IMAGES OF EACH TYPE #\n",
    "# OR ODDS WILL BE WEIGHTED TOWARD THE TYPE WITH MORE IMAGES #\n",
    "print(len(training_data))\n",
    "\n",
    "import random\n",
    "random.shuffle(training_data)\n",
    "\n",
    "for sample in training_data[:10]:\n",
    "    print(sample[1])"
   ]
  },
  {
   "cell_type": "raw",
   "id": "95a5cc17-0a6b-488a-afde-107bfeefe60f",
   "metadata": {},
   "source": [
    "Save numerical features of the images in X, and category in y.  The model will use the numeric feature values of the image"
   ]
  },
  {
   "cell_type": "code",
   "execution_count": null,
   "id": "af536ba0-016d-42b7-b940-06656487e92e",
   "metadata": {
    "tags": []
   },
   "outputs": [],
   "source": [
    "\n",
    "X = []\n",
    "y=[]\n",
    "\n",
    "for features, label in training_data:\n",
    "    X.append(features)\n",
    "    y.append(label)\n"
   ]
  },
  {
   "cell_type": "raw",
   "id": "600116df-6b60-4682-b236-d1732d8baef6",
   "metadata": {},
   "source": [
    "Convert python lists to numpy arrays and reshape.  Tensorflow works with np arrays"
   ]
  },
  {
   "cell_type": "code",
   "execution_count": null,
   "id": "7991b90d-ee04-4d9f-b2ef-30e30be59093",
   "metadata": {
    "tags": []
   },
   "outputs": [],
   "source": [
    "\n",
    "#the 3 is for color, 3 color values.  1 would be for greyscale\n",
    "X = np.array(X).reshape(-1, IMG_SIZE, IMG_SIZE, 3)\n",
    "y = np.array(y)\n"
   ]
  },
  {
   "cell_type": "raw",
   "id": "dae2c5a5-eb9d-40ef-8b67-16570a810302",
   "metadata": {},
   "source": [
    "save data"
   ]
  },
  {
   "cell_type": "code",
   "execution_count": null,
   "id": "e398f8ad-7c52-4e38-a546-a10d43114f66",
   "metadata": {
    "tags": []
   },
   "outputs": [],
   "source": [
    "\n",
    "import pickle\n",
    "\n",
    "pickle_out = open(\"X.pickle\", \"wb\")\n",
    "pickle.dump(X, pickle_out)\n",
    "pickle_out.close()\n",
    "\n",
    "pickle_out = open(\"y.pickle\", \"wb\")\n",
    "pickle.dump(y, pickle_out)\n",
    "pickle_out.close()\n",
    "\n",
    "pickle_in = open(\"X.pickle\", \"rb\")\n",
    "X = pickle.load(pickle_in)\n",
    "\n",
    "print(X[1])"
   ]
  },
  {
   "cell_type": "code",
   "execution_count": null,
   "id": "ba35484c-2f95-4ce1-9890-ec374aabae65",
   "metadata": {},
   "outputs": [],
   "source": []
  },
  {
   "cell_type": "code",
   "execution_count": null,
   "id": "daf2f69f-7534-43fc-ab29-ebb2a97a53f0",
   "metadata": {},
   "outputs": [],
   "source": []
  }
 ],
 "metadata": {
  "kernelspec": {
   "display_name": "Python 3",
   "language": "python",
   "name": "python3"
  },
  "language_info": {
   "codemirror_mode": {
    "name": "ipython",
    "version": 3
   },
   "file_extension": ".py",
   "mimetype": "text/x-python",
   "name": "python",
   "nbconvert_exporter": "python",
   "pygments_lexer": "ipython3",
   "version": "3.8.8"
  }
 },
 "nbformat": 4,
 "nbformat_minor": 5
}
